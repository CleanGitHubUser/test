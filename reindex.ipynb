{
 "cells": [
  {
   "cell_type": "code",
   "execution_count": 119,
   "id": "55e456dc",
   "metadata": {},
   "outputs": [],
   "source": [
    "from scipy.stats import gamma\n",
    "import numpy as np\n",
    "import math\n",
    "\n",
    "nU = 1000\n",
    "nI = 1000\n",
    "k = 30\n",
    "mean_y = 3\n",
    "shape_para = 1\n",
    "a = shape_para\n",
    "a_prime = shape_para\n",
    "b_prime = a / math.sqrt(mean_y / k)\n",
    "c = shape_para\n",
    "c_prime = shape_para\n",
    "d_prime = c / math.sqrt(mean_y / k)\n",
    "\n",
    "rng = np.random.default_rng()"
   ]
  },
  {
   "cell_type": "code",
   "execution_count": 120,
   "id": "d541daea",
   "metadata": {},
   "outputs": [],
   "source": [
    "eta = gamma.ppf(rng.uniform(0.15, 0.85, nI), a=c_prime, scale=d_prime / c_prime).reshape(nI, 1)"
   ]
  },
  {
   "cell_type": "code",
   "execution_count": 121,
   "id": "e4a2d8ef",
   "metadata": {},
   "outputs": [],
   "source": [
    "Beta = np.empty(shape = (nI, k))\n",
    "for i in range(nU):\n",
    "    Beta[i, :] = gamma.ppf(rng.uniform(0.15, 0.85, k), a=c, scale=1 / eta[i])"
   ]
  },
  {
   "cell_type": "code",
   "execution_count": 122,
   "id": "61c3dae2",
   "metadata": {
    "scrolled": true
   },
   "outputs": [
    {
     "data": {
      "text/plain": [
       "array([[0.84597781, 0.46057439, 2.6805792 , ..., 2.43260963, 0.4236302 ,\n",
       "        2.15175231],\n",
       "       [0.10381689, 0.06393169, 0.21348347, ..., 0.41207671, 0.58880833,\n",
       "        0.25469564],\n",
       "       [0.3833636 , 0.195321  , 0.24254739, ..., 0.82611442, 0.12391074,\n",
       "        0.27105774],\n",
       "       ...,\n",
       "       [0.23822667, 0.67344069, 1.13441099, ..., 0.25234503, 0.19175981,\n",
       "        1.07892712],\n",
       "       [2.70359599, 0.67607078, 1.99934018, ..., 2.60213503, 0.38459295,\n",
       "        2.46986286],\n",
       "       [0.41570627, 0.25429254, 0.0934597 , ..., 0.14167892, 0.04669157,\n",
       "        0.06074167]])"
      ]
     },
     "execution_count": 122,
     "metadata": {},
     "output_type": "execute_result"
    }
   ],
   "source": [
    "Beta"
   ]
  },
  {
   "cell_type": "code",
   "execution_count": 123,
   "id": "753f7b5e",
   "metadata": {},
   "outputs": [],
   "source": [
    "Beta2 = np.empty(shape = (nI, k))\n",
    "for i in range(nU):\n",
    "    Beta2[i, :] = gamma.ppf(rng.uniform(0.15, 0.85, k), a=c, scale=1 / eta[i])"
   ]
  },
  {
   "cell_type": "code",
   "execution_count": 124,
   "id": "31e1cf52",
   "metadata": {},
   "outputs": [
    {
     "data": {
      "text/plain": [
       "array([[1.18696212, 2.07457112, 1.14130716, ..., 0.34955108, 0.96732484,\n",
       "        0.64344236],\n",
       "       [0.31720796, 0.39776725, 0.12868773, ..., 0.32044845, 0.55237434,\n",
       "        0.32042534],\n",
       "       [0.23781923, 0.35909612, 0.49681936, ..., 1.32087655, 0.12033007,\n",
       "        0.33813073],\n",
       "       ...,\n",
       "       [0.44847261, 0.18234976, 1.07872412, ..., 0.67560984, 0.14410704,\n",
       "        0.12591793],\n",
       "       [0.58881026, 0.37181046, 0.63155107, ..., 1.66953807, 0.70761957,\n",
       "        1.40085748],\n",
       "       [0.11655522, 0.39304997, 0.21894097, ..., 0.46831536, 0.08225518,\n",
       "        0.18063678]])"
      ]
     },
     "execution_count": 124,
     "metadata": {},
     "output_type": "execute_result"
    }
   ],
   "source": [
    "Beta2"
   ]
  },
  {
   "cell_type": "code",
   "execution_count": 130,
   "id": "da0272cb",
   "metadata": {},
   "outputs": [
    {
     "data": {
      "text/plain": [
       "array([[ True,  True,  True, ...,  True,  True,  True],\n",
       "       [ True,  True, False, ..., False, False, False],\n",
       "       [ True,  True,  True, ...,  True, False, False],\n",
       "       ...,\n",
       "       [ True,  True, False, ...,  True, False,  True],\n",
       "       [ True,  True,  True, ...,  True,  True,  True],\n",
       "       [ True,  True,  True, ...,  True, False,  True]])"
      ]
     },
     "execution_count": 130,
     "metadata": {},
     "output_type": "execute_result"
    }
   ],
   "source": [
    "max_para_change = 1e-1\n",
    "abs(Beta - Beta2) > max_para_change"
   ]
  },
  {
   "cell_type": "code",
   "execution_count": 131,
   "id": "3f728af3",
   "metadata": {},
   "outputs": [
    {
     "data": {
      "text/plain": [
       "array([2.6805792 , 2.87169222, 1.64599303, ..., 0.29486936, 0.30583624,\n",
       "       0.34247146])"
      ]
     },
     "execution_count": 131,
     "metadata": {},
     "output_type": "execute_result"
    }
   ],
   "source": [
    "Beta[Beta > Beta2]"
   ]
  },
  {
   "cell_type": "code",
   "execution_count": 34,
   "id": "464214c0",
   "metadata": {},
   "outputs": [
    {
     "ename": "TypeError",
     "evalue": "'numpy.ndarray' object is not callable",
     "output_type": "error",
     "traceback": [
      "\u001b[1;31m---------------------------------------------------------------------------\u001b[0m",
      "\u001b[1;31mTypeError\u001b[0m                                 Traceback (most recent call last)",
      "\u001b[1;32m<ipython-input-34-007b6060fb54>\u001b[0m in \u001b[0;36m<module>\u001b[1;34m\u001b[0m\n\u001b[1;32m----> 1\u001b[1;33m \u001b[0mnp\u001b[0m\u001b[1;33m.\u001b[0m\u001b[0mapply_along_axis\u001b[0m\u001b[1;33m(\u001b[0m\u001b[0mgamma\u001b[0m\u001b[1;33m.\u001b[0m\u001b[0mppf\u001b[0m\u001b[1;33m(\u001b[0m\u001b[0ma\u001b[0m\u001b[1;33m,\u001b[0m \u001b[1;36m1\u001b[0m \u001b[1;33m/\u001b[0m \u001b[0mksi\u001b[0m\u001b[1;33m)\u001b[0m\u001b[1;33m,\u001b[0m \u001b[1;36m1\u001b[0m\u001b[1;33m,\u001b[0m \u001b[0mTheta\u001b[0m\u001b[1;33m)\u001b[0m\u001b[1;33m\u001b[0m\u001b[1;33m\u001b[0m\u001b[0m\n\u001b[0m",
      "\u001b[1;32m<__array_function__ internals>\u001b[0m in \u001b[0;36mapply_along_axis\u001b[1;34m(*args, **kwargs)\u001b[0m\n",
      "\u001b[1;32mc:\\users\\jw\\appdata\\local\\programs\\python\\python38\\lib\\site-packages\\numpy\\lib\\shape_base.py\u001b[0m in \u001b[0;36mapply_along_axis\u001b[1;34m(func1d, axis, arr, *args, **kwargs)\u001b[0m\n\u001b[0;32m    377\u001b[0m             \u001b[1;34m'Cannot apply_along_axis when any iteration dimensions are 0'\u001b[0m\u001b[1;33m\u001b[0m\u001b[1;33m\u001b[0m\u001b[0m\n\u001b[0;32m    378\u001b[0m         ) from None\n\u001b[1;32m--> 379\u001b[1;33m     \u001b[0mres\u001b[0m \u001b[1;33m=\u001b[0m \u001b[0masanyarray\u001b[0m\u001b[1;33m(\u001b[0m\u001b[0mfunc1d\u001b[0m\u001b[1;33m(\u001b[0m\u001b[0minarr_view\u001b[0m\u001b[1;33m[\u001b[0m\u001b[0mind0\u001b[0m\u001b[1;33m]\u001b[0m\u001b[1;33m,\u001b[0m \u001b[1;33m*\u001b[0m\u001b[0margs\u001b[0m\u001b[1;33m,\u001b[0m \u001b[1;33m**\u001b[0m\u001b[0mkwargs\u001b[0m\u001b[1;33m)\u001b[0m\u001b[1;33m)\u001b[0m\u001b[1;33m\u001b[0m\u001b[1;33m\u001b[0m\u001b[0m\n\u001b[0m\u001b[0;32m    380\u001b[0m \u001b[1;33m\u001b[0m\u001b[0m\n\u001b[0;32m    381\u001b[0m     \u001b[1;31m# build a buffer for storing evaluations of func1d.\u001b[0m\u001b[1;33m\u001b[0m\u001b[1;33m\u001b[0m\u001b[1;33m\u001b[0m\u001b[0m\n",
      "\u001b[1;31mTypeError\u001b[0m: 'numpy.ndarray' object is not callable"
     ]
    }
   ],
   "source": []
  },
  {
   "cell_type": "code",
   "execution_count": null,
   "id": "713c797e",
   "metadata": {},
   "outputs": [],
   "source": []
  }
 ],
 "metadata": {
  "kernelspec": {
   "display_name": "Python 3",
   "language": "python",
   "name": "python3"
  },
  "language_info": {
   "codemirror_mode": {
    "name": "ipython",
    "version": 3
   },
   "file_extension": ".py",
   "mimetype": "text/x-python",
   "name": "python",
   "nbconvert_exporter": "python",
   "pygments_lexer": "ipython3",
   "version": "3.8.5"
  }
 },
 "nbformat": 4,
 "nbformat_minor": 5
}
